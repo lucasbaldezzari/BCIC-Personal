{
 "cells": [
  {
   "cell_type": "markdown",
   "metadata": {
    "id": "x-5GpgEnjKYY"
   },
   "source": [
    "# EEG Frequency Analysis Tutorial\n",
    "\n",
    "[Here](https://archive.ics.uci.edu/ml/datasets/EEG+Steady-State+Visual+Evoked+Potential+Signals#) is where we get our data from.\n",
    "\n",
    "In this tutorial, we will be looking at some arbitrary EEG data, and use some of the techniques we have looked at in today's lecture. First we import our packages."
   ]
  },
  {
   "cell_type": "code",
   "execution_count": 2,
   "metadata": {
    "colab": {
     "base_uri": "https://localhost:8080/"
    },
    "executionInfo": {
     "elapsed": 3319,
     "status": "ok",
     "timestamp": 1633957630447,
     "user": {
      "displayName": "Taylor Baum",
      "photoUrl": "https://lh3.googleusercontent.com/a/default-user=s64",
      "userId": "15019767343749897993"
     },
     "user_tz": 240
    },
    "id": "lGAx9vT6frgz",
    "outputId": "6e4d3517-d6fa-416a-8941-e8e1df11cce1"
   },
   "outputs": [],
   "source": [
    "# Import Packages\n",
    "import pandas as pd\n",
    "import matplotlib.pyplot as plt\n",
    "import matplotlib as mpl\n",
    "import numpy as np\n",
    "from scipy import signal\n",
    "\n",
    "#!pip install nitime\n",
    "import nitime.algorithms as tsa\n",
    "import nitime.utils as utils"
   ]
  },
  {
   "cell_type": "markdown",
   "metadata": {
    "id": "Icr8AuOPJYjq"
   },
   "source": [
    "Next, we download our data from a github repository. This is a quick and easy way to get data into a Google Colab notebook."
   ]
  },
  {
   "cell_type": "code",
   "execution_count": 3,
   "metadata": {
    "colab": {
     "base_uri": "https://localhost:8080/",
     "height": 275
    },
    "executionInfo": {
     "elapsed": 367,
     "status": "ok",
     "timestamp": 1633957630811,
     "user": {
      "displayName": "Taylor Baum",
      "photoUrl": "https://lh3.googleusercontent.com/a/default-user=s64",
      "userId": "15019767343749897993"
     },
     "user_tz": 240
    },
    "id": "3WhtO6u8HiZQ",
    "outputId": "a45a6365-459d-48fc-ba41-96ab2bf8e457"
   },
   "outputs": [
    {
     "data": {
      "text/html": [
       "<div>\n",
       "<style scoped>\n",
       "    .dataframe tbody tr th:only-of-type {\n",
       "        vertical-align: middle;\n",
       "    }\n",
       "\n",
       "    .dataframe tbody tr th {\n",
       "        vertical-align: top;\n",
       "    }\n",
       "\n",
       "    .dataframe thead th {\n",
       "        text-align: right;\n",
       "    }\n",
       "</style>\n",
       "<table border=\"1\" class=\"dataframe\">\n",
       "  <thead>\n",
       "    <tr style=\"text-align: right;\">\n",
       "      <th></th>\n",
       "      <th>0</th>\n",
       "      <th>1</th>\n",
       "      <th>2</th>\n",
       "      <th>3</th>\n",
       "      <th>4</th>\n",
       "      <th>5</th>\n",
       "      <th>6</th>\n",
       "      <th>7</th>\n",
       "      <th>8</th>\n",
       "      <th>9</th>\n",
       "      <th>10</th>\n",
       "      <th>11</th>\n",
       "      <th>12</th>\n",
       "      <th>13</th>\n",
       "      <th>14</th>\n",
       "      <th>15</th>\n",
       "    </tr>\n",
       "  </thead>\n",
       "  <tbody>\n",
       "    <tr>\n",
       "      <th>0</th>\n",
       "      <td>title:sujeto 1                                ...</td>\n",
       "      <td>recorded:30.06.20 13.24.04</td>\n",
       "      <td>sampling:128</td>\n",
       "      <td>subject:sujeto 1                             ...</td>\n",
       "      <td>labels:COUNTER INTERPOLATED AF3 F7 F3 FC5 T7 ...</td>\n",
       "      <td>chan:37</td>\n",
       "      <td>units:emotiv</td>\n",
       "      <td>NaN</td>\n",
       "      <td>NaN</td>\n",
       "      <td>NaN</td>\n",
       "      <td>NaN</td>\n",
       "      <td>NaN</td>\n",
       "      <td>NaN</td>\n",
       "      <td>NaN</td>\n",
       "      <td>NaN</td>\n",
       "      <td>NaN</td>\n",
       "    </tr>\n",
       "    <tr>\n",
       "      <th>1</th>\n",
       "      <td>17</td>\n",
       "      <td>0</td>\n",
       "      <td>4183.589641</td>\n",
       "      <td>4191.794769</td>\n",
       "      <td>4178.461436</td>\n",
       "      <td>4168.205026</td>\n",
       "      <td>4257.948614</td>\n",
       "      <td>4202.051179</td>\n",
       "      <td>4231.794768</td>\n",
       "      <td>4202.051179</td>\n",
       "      <td>4237.948614</td>\n",
       "      <td>4204.102461</td>\n",
       "      <td>4168.717847</td>\n",
       "      <td>4186.666564</td>\n",
       "      <td>4181.025539</td>\n",
       "      <td>4180.512718</td>\n",
       "    </tr>\n",
       "    <tr>\n",
       "      <th>2</th>\n",
       "      <td>18</td>\n",
       "      <td>0</td>\n",
       "      <td>4183.589641</td>\n",
       "      <td>4200.512718</td>\n",
       "      <td>4179.999898</td>\n",
       "      <td>4193.333231</td>\n",
       "      <td>4241.538358</td>\n",
       "      <td>4182.564000</td>\n",
       "      <td>4225.128102</td>\n",
       "      <td>4199.487077</td>\n",
       "      <td>4235.384512</td>\n",
       "      <td>4194.871692</td>\n",
       "      <td>4172.307590</td>\n",
       "      <td>4193.846051</td>\n",
       "      <td>4185.640923</td>\n",
       "      <td>4184.615282</td>\n",
       "    </tr>\n",
       "    <tr>\n",
       "      <th>3</th>\n",
       "      <td>19</td>\n",
       "      <td>0</td>\n",
       "      <td>4198.461436</td>\n",
       "      <td>4207.692205</td>\n",
       "      <td>4188.717846</td>\n",
       "      <td>4206.153743</td>\n",
       "      <td>4229.743486</td>\n",
       "      <td>4196.410154</td>\n",
       "      <td>4229.743486</td>\n",
       "      <td>4210.256307</td>\n",
       "      <td>4247.179383</td>\n",
       "      <td>4208.717846</td>\n",
       "      <td>4191.281949</td>\n",
       "      <td>4203.076820</td>\n",
       "      <td>4195.897333</td>\n",
       "      <td>4196.922974</td>\n",
       "    </tr>\n",
       "    <tr>\n",
       "      <th>4</th>\n",
       "      <td>20</td>\n",
       "      <td>0</td>\n",
       "      <td>4198.974256</td>\n",
       "      <td>4191.794769</td>\n",
       "      <td>4184.615282</td>\n",
       "      <td>4184.102462</td>\n",
       "      <td>4231.281948</td>\n",
       "      <td>4203.589641</td>\n",
       "      <td>4232.820409</td>\n",
       "      <td>4209.230666</td>\n",
       "      <td>4241.025537</td>\n",
       "      <td>4207.179384</td>\n",
       "      <td>4189.230667</td>\n",
       "      <td>4201.538359</td>\n",
       "      <td>4193.846051</td>\n",
       "      <td>4197.948615</td>\n",
       "    </tr>\n",
       "  </tbody>\n",
       "</table>\n",
       "</div>"
      ],
      "text/plain": [
       "                                                  0   \\\n",
       "0  title:sujeto 1                                ...   \n",
       "1                                                 17   \n",
       "2                                                 18   \n",
       "3                                                 19   \n",
       "4                                                 20   \n",
       "\n",
       "                            1              2   \\\n",
       "0   recorded:30.06.20 13.24.04   sampling:128   \n",
       "1                            0    4183.589641   \n",
       "2                            0    4183.589641   \n",
       "3                            0    4198.461436   \n",
       "4                            0    4198.974256   \n",
       "\n",
       "                                                  3   \\\n",
       "0   subject:sujeto 1                             ...   \n",
       "1                                        4191.794769   \n",
       "2                                        4200.512718   \n",
       "3                                        4207.692205   \n",
       "4                                        4191.794769   \n",
       "\n",
       "                                                  4            5   \\\n",
       "0   labels:COUNTER INTERPOLATED AF3 F7 F3 FC5 T7 ...      chan:37   \n",
       "1                                        4178.461436  4168.205026   \n",
       "2                                        4179.999898  4193.333231   \n",
       "3                                        4188.717846  4206.153743   \n",
       "4                                        4184.615282  4184.102462   \n",
       "\n",
       "              6            7            8            9            10  \\\n",
       "0   units:emotiv          NaN          NaN          NaN          NaN   \n",
       "1    4257.948614  4202.051179  4231.794768  4202.051179  4237.948614   \n",
       "2    4241.538358  4182.564000  4225.128102  4199.487077  4235.384512   \n",
       "3    4229.743486  4196.410154  4229.743486  4210.256307  4247.179383   \n",
       "4    4231.281948  4203.589641  4232.820409  4209.230666  4241.025537   \n",
       "\n",
       "            11           12           13           14           15  \n",
       "0          NaN          NaN          NaN          NaN          NaN  \n",
       "1  4204.102461  4168.717847  4186.666564  4181.025539  4180.512718  \n",
       "2  4194.871692  4172.307590  4193.846051  4185.640923  4184.615282  \n",
       "3  4208.717846  4191.281949  4203.076820  4195.897333  4196.922974  \n",
       "4  4207.179384  4189.230667  4201.538359  4193.846051  4197.948615  "
      ]
     },
     "execution_count": 3,
     "metadata": {},
     "output_type": "execute_result"
    }
   ],
   "source": [
    "# Download Data\n",
    "url = 'https://raw.githubusercontent.com/teb5240/EEG-SSVEP-Tutorial/main/A001SB1_1.csv'\n",
    "data = pd.read_csv(url, header = None)\n",
    "data.head()"
   ]
  },
  {
   "cell_type": "markdown",
   "metadata": {
    "id": "pRWLrk-iJeus"
   },
   "source": [
    "You can see that in this data, there is a strange first row. This row contains useful information, but it makes data processing a bit difficult. We want to extract the relevant information, and then convert the data to a `numpy` array so we can work with it easily."
   ]
  },
  {
   "cell_type": "code",
   "execution_count": 4,
   "metadata": {
    "colab": {
     "base_uri": "https://localhost:8080/"
    },
    "executionInfo": {
     "elapsed": 9,
     "status": "ok",
     "timestamp": 1633957630812,
     "user": {
      "displayName": "Taylor Baum",
      "photoUrl": "https://lh3.googleusercontent.com/a/default-user=s64",
      "userId": "15019767343749897993"
     },
     "user_tz": 240
    },
    "id": "8oAFL0kygnn7",
    "outputId": "38ea422d-6d8d-46f6-ec88-c63769be90d7"
   },
   "outputs": [
    {
     "name": "stdout",
     "output_type": "stream",
     "text": [
      "Here are the labels of each of the columns of the data: \n",
      "   labels:COUNTER INTERPOLATED AF3 F7 F3 FC5 T7 P7 O1 O2 P8 T8 FC6 F4 F8 AF4\n",
      "\n",
      "Here is our raw EEG data in a numpy array: \n",
      "[['17' '0' '4183.589641' ... 4186.666564 4181.025539 4180.512718]\n",
      " ['18' '0' '4183.589641' ... 4193.846051 4185.640923 4184.615282]\n",
      " ['19' '0' '4198.461436' ... 4203.07682 4195.897333 4196.922974]\n",
      " ...\n",
      " ['120' '0' '4193.846051' ... 4219.487076 4183.589641 4216.922974]\n",
      " ['121' '0' '4187.692205' ... 4217.435794 4183.589641 4219.487076]\n",
      " ['122' '0' '4187.692205' ... 4222.563999 4184.102462 4219.487076]]\n",
      "\n"
     ]
    }
   ],
   "source": [
    "# Extract the Header of the Data\n",
    "relevant_information = data.loc[0, :]\n",
    "labels = relevant_information[4]\n",
    "print('Here are the labels of each of the columns of the data: \\n  ' + str(labels) + '\\n')\n",
    "\n",
    "# Drop the Header\n",
    "data_drop = data.drop(labels = 0, axis = 0)\n",
    "\n",
    "# Convert to a Numpy Array\n",
    "data_np = data_drop.to_numpy()\n",
    "print('Here is our raw EEG data in a numpy array: \\n' + str(data_np) + '\\n')"
   ]
  },
  {
   "cell_type": "markdown",
   "metadata": {
    "id": "ZMOuaw8ZKqrJ"
   },
   "source": [
    "We extract the relevant information from the labels printed above, and then extract some EEG signals to play with. In this case, because we are interested in EEG signals from the visual cortex, we extract O1, which refers to electrodes over the occipital lobe."
   ]
  },
  {
   "cell_type": "code",
   "execution_count": 5,
   "metadata": {
    "colab": {
     "base_uri": "https://localhost:8080/",
     "height": 312
    },
    "executionInfo": {
     "elapsed": 672,
     "status": "ok",
     "timestamp": 1633957632247,
     "user": {
      "displayName": "Taylor Baum",
      "photoUrl": "https://lh3.googleusercontent.com/a/default-user=s64",
      "userId": "15019767343749897993"
     },
     "user_tz": 240
    },
    "id": "PZuEYleDiKhG",
    "outputId": "b7d2544a-b9cf-4f03-b799-cd1dfd10016b"
   },
   "outputs": [
    {
     "data": {
      "text/plain": [
       "Text(0.5, 1.0, 'Time Signal')"
      ]
     },
     "execution_count": 5,
     "metadata": {},
     "output_type": "execute_result"
    },
    {
     "data": {
      "image/png": "[encoded data removed]",
      "text/plain": [
       "<Figure size 432x288 with 1 Axes>"
      ]
     },
     "metadata": {
      "needs_background": "light"
     },
     "output_type": "display_data"
    }
   ],
   "source": [
    "# Header Information\n",
    "fs = 128 # sampling rate\n",
    "\n",
    "# Extract EEG Signal of Interest\n",
    "O1 = data_np[:, 7]\n",
    "\n",
    "# Visualize the Time Signal\n",
    "plt.figure()\n",
    "plt.plot(O1)\n",
    "plt.xlabel('Time [samples]')\n",
    "plt.ylabel('Voltage')\n",
    "plt.title('Time Signal')"
   ]
  },
  {
   "cell_type": "markdown",
   "metadata": {
    "id": "vu56Y4A3XEeR"
   },
   "source": [
    "## Periodogram [By Hand]\n",
    "\n",
    "Here, we calculate the power spectral density with the periodogram by hand."
   ]
  },
  {
   "cell_type": "code",
   "execution_count": 6,
   "metadata": {
    "colab": {
     "base_uri": "https://localhost:8080/",
     "height": 329
    },
    "executionInfo": {
     "elapsed": 617,
     "status": "ok",
     "timestamp": 1633957634520,
     "user": {
      "displayName": "Taylor Baum",
      "photoUrl": "https://lh3.googleusercontent.com/a/default-user=s64",
      "userId": "15019767343749897993"
     },
     "user_tz": 240
    },
    "id": "jYhifkcQ3QZo",
    "outputId": "abed4664-3afd-4ac9-9ee7-6a99c4d16f10"
   },
   "outputs": [
    {
     "name": "stdout",
     "output_type": "stream",
     "text": [
      "[107.19582549  36.5849747   52.58177438 ...  52.92000372  52.58177438\n",
      "  36.5849747 ]\n"
     ]
    },
    {
     "data": {
      "image/png": "[encoded data removed]",
      "text/plain": [
       "<Figure size 432x288 with 1 Axes>"
      ]
     },
     "metadata": {
      "needs_background": "light"
     },
     "output_type": "display_data"
    }
   ],
   "source": [
    "# Calculate the Periodogram by Hand\n",
    "samples_dtft = np.fft.fft(O1) # fft of input samples\n",
    "N = len(samples_dtft) # Number of samples of the DTFT for the DFT\n",
    "periodogram = np.abs(samples_dtft**2)/N\n",
    "f_hand = 128 * np.arange(0, N) /N\n",
    "\n",
    "# Plot Periodogram by Hand\n",
    "plt.figure()\n",
    "periodogram_dB = 10*np.log10(np.abs(periodogram))\n",
    "plt.plot(f_hand, periodogram_dB)\n",
    "plt.ylim()\n",
    "plt.xlim([-2, fs/2])\n",
    "plt.xlabel('Frequency [Hz]')\n",
    "plt.ylabel('Power Spectrum [dB]')\n",
    "plt.title('Periodogram Power Spectral Density Estimate [by hand]')\n",
    "\n",
    "print(periodogram_dB)"
   ]
  },
  {
   "cell_type": "markdown",
   "metadata": {
    "id": "D3k8lTRLXH1Q"
   },
   "source": [
    "## Periodogram [Signal Package]\n",
    "\n",
    "Here, we calculate the periodogram with the `signal` package from `Scipy`."
   ]
  },
  {
   "cell_type": "code",
   "execution_count": 7,
   "metadata": {
    "colab": {
     "base_uri": "https://localhost:8080/",
     "height": 329
    },
    "executionInfo": {
     "elapsed": 462,
     "status": "ok",
     "timestamp": 1633957636374,
     "user": {
      "displayName": "Taylor Baum",
      "photoUrl": "https://lh3.googleusercontent.com/a/default-user=s64",
      "userId": "15019767343749897993"
     },
     "user_tz": 240
    },
    "id": "3L0FgO765fLM",
    "outputId": "ca944ba3-66a2-4ad2-cd6e-81ef26e94a95"
   },
   "outputs": [
    {
     "name": "stdout",
     "output_type": "stream",
     "text": [
      "[-213.77217148   18.52317496   34.51997464 ...  -31.1812684   -28.89120192\n",
      "  -38.63959618]\n"
     ]
    },
    {
     "data": {
      "image/png": "[encoded data removed]",
      "text/plain": [
       "<Figure size 432x288 with 1 Axes>"
      ]
     },
     "metadata": {
      "needs_background": "light"
     },
     "output_type": "display_data"
    }
   ],
   "source": [
    "# Calculate the Periodogram with the Signal Package\n",
    "f, Phi = signal.periodogram(O1, fs, scaling = 'density')\n",
    "Phi = np.abs(Phi).astype(float)\n",
    "Phi_dB = 10*np.log10(np.abs(Phi))\n",
    "\n",
    "# Plot the Periodogram with the Signal Package\n",
    "plt.figure()\n",
    "plt.plot(f, Phi_dB)\n",
    "plt.ylim([-60, 50])\n",
    "plt.xlabel('Frequency [Hz]')\n",
    "plt.ylabel('Power Spectral Density [dB/Hz]')\n",
    "plt.title('Periodogram Power Spectral Density Estimate [signal package]')\n",
    "\n",
    "print(Phi_dB)"
   ]
  },
  {
   "cell_type": "markdown",
   "metadata": {
    "id": "tOf8SBV6XO4d"
   },
   "source": [
    "## Multitaper Spectrum"
   ]
  },
  {
   "cell_type": "code",
   "execution_count": 8,
   "metadata": {
    "colab": {
     "base_uri": "https://localhost:8080/",
     "height": 329
    },
    "executionInfo": {
     "elapsed": 751,
     "status": "ok",
     "timestamp": 1633957638736,
     "user": {
      "displayName": "Taylor Baum",
      "photoUrl": "https://lh3.googleusercontent.com/a/default-user=s64",
      "userId": "15019767343749897993"
     },
     "user_tz": 240
    },
    "id": "mdzkoXpG5riN",
    "outputId": "86f18a22-7851-4ebd-9080-f37b7fffe291"
   },
   "outputs": [
    {
     "name": "stdout",
     "output_type": "stream",
     "text": [
      "[ 43.21273991  44.93547513  44.89430134 ... -17.42432862 -16.93860677\n",
      " -19.54692832]\n"
     ]
    },
    {
     "data": {
      "image/png": "[encoded data removed]",
      "text/plain": [
       "<Figure size 432x288 with 1 Axes>"
      ]
     },
     "metadata": {
      "needs_background": "light"
     },
     "output_type": "display_data"
    }
   ],
   "source": [
    "def dB(x, out=None):\n",
    "    if out is None:\n",
    "        return 10 * np.log10(x)\n",
    "    else:\n",
    "        np.log10(x, out)\n",
    "        np.multiply(out, 10, out)\n",
    "        \n",
    "f, Phi_multi, nu = tsa.multi_taper_psd(O1,  adaptive=False, jackknife=False)\n",
    "Phi_multi_dB = dB(Phi_multi)\n",
    "\n",
    "plt.figure()\n",
    "plt.plot(f, Phi_multi_dB)\n",
    "# plt.ylim([-120, 0])\n",
    "plt.xlabel('Frequency [rad]')\n",
    "plt.ylabel('Power Spectral Density [dB/Hz]')\n",
    "plt.title('Multitaper Power Spectral Density Estimate [signal package]')\n",
    "\n",
    "print(Phi_multi_dB)"
   ]
  },
  {
   "cell_type": "code",
   "execution_count": 9,
   "metadata": {
    "cellView": "form",
    "executionInfo": {
     "elapsed": 3773,
     "status": "ok",
     "timestamp": 1633957643606,
     "user": {
      "displayName": "Taylor Baum",
      "photoUrl": "https://lh3.googleusercontent.com/a/default-user=s64",
      "userId": "15019767343749897993"
     },
     "user_tz": 240
    },
    "id": "yedHx-G3Uut1"
   },
   "outputs": [],
   "source": [
    "#@title\n",
    "# Analysis Imports\n",
    "import math\n",
    "import numpy as np\n",
    "from scipy.signal.windows import dpss\n",
    "from scipy.signal import detrend\n",
    "# Logistical Imports\n",
    "import warnings\n",
    "import timeit\n",
    "from functools import partial\n",
    "from multiprocessing import Pool, cpu_count\n",
    "# Visualization imports\n",
    "import matplotlib.pyplot as plt\n",
    "import librosa.display\n",
    "\n",
    "\n",
    "# MULTITAPER SPECTROGRAM #\n",
    "def multitaper_spectrogram(data, fs, frequency_range=None, time_bandwidth=5, num_tapers=None, window_params=None,\n",
    "                           min_nfft=0, detrend_opt='linear', multiprocess=False, cpus=False, weighting='unity',\n",
    "                           plot_on=True, clim_scale = True, verbose=True, xyflip=False):\n",
    "    \"\"\" Compute multitaper spectrogram of timeseries data\n",
    "    Usage:\n",
    "    mt_spectrogram, stimes, sfreqs = multitaper_spectrogram(data, fs, frequency_range=None, time_bandwidth=5,\n",
    "                                                                   num_tapers=None, window_params=None, min_nfft=0,\n",
    "                                                                   detrend_opt='linear', multiprocess=False, cpus=False,\n",
    "                                                                    weighting='unity', plot_on=True, verbose=True,\n",
    "                                                                    xyflip=False):\n",
    "        Arguments:\n",
    "                data (1d np.array): time series data -- required\n",
    "                fs (float): sampling frequency in Hz  -- required\n",
    "                frequency_range (list): 1x2 list - [<min frequency>, <max frequency>] (default: [0 nyquist])\n",
    "                time_bandwidth (float): time-half bandwidth product (window duration*half bandwidth of main lobe)\n",
    "                                        (default: 5 Hz*s)\n",
    "                num_tapers (int): number of DPSS tapers to use (default: [will be computed\n",
    "                                  as floor(2*time_bandwidth - 1)])\n",
    "                window_params (list): 1x2 list - [window size (seconds), step size (seconds)] (default: [5 1])\n",
    "                detrend_opt (string): detrend data window ('linear' (default), 'constant', 'off')\n",
    "                                      (Default: 'linear')\n",
    "                min_nfft (int): minimum allowable NFFT size, adds zero padding for interpolation (closest 2^x)\n",
    "                                (default: 0)\n",
    "                multiprocess (bool): Use multiprocessing to compute multitaper spectrogram (default: False)\n",
    "                cpus (int): Number of cpus to use if multiprocess = True (default: False). Note: if default is left\n",
    "                            as False and multiprocess = True, the number of cpus used for multiprocessing will be\n",
    "                            all available - 1.\n",
    "                weighting (str): weighting of tapers ('unity' (default), 'eigen', 'adapt');\n",
    "                plot_on (bool): plot results (default: True)\n",
    "                clim_scale (bool): automatically scale the colormap on the plotted spectrogram (default: true)\n",
    "                verbose (bool): display spectrogram properties (default: true)\n",
    "                xyflip (bool): transpose the mt_spectrogram output (default: false)\n",
    "        Returns:\n",
    "                mt_spectrogram (TxF np array): spectral power matrix\n",
    "                stimes (1xT np array): timepoints (s) in mt_spectrogram\n",
    "                sfreqs (1xF np array)L frequency values (Hz) in mt_spectrogram\n",
    "\n",
    "        Example:\n",
    "        In this example we create some chirp data and run the multitaper spectrogram on it.\n",
    "            import numpy as np  # import numpy\n",
    "            from scipy.signal import chirp  # import chirp generation function\n",
    "            # Set spectrogram params\n",
    "            fs = 200  # Sampling Frequency\n",
    "            frequency_range = [0, 25]  # Limit frequencies from 0 to 25 Hz\n",
    "            time_bandwidth = 3  # Set time-half bandwidth\n",
    "            num_tapers = 5  # Set number of tapers (optimal is time_bandwidth*2 - 1)\n",
    "            window_params = [4, 1]  # Window size is 4s with step size of 1s\n",
    "            min_nfft = 0  # No minimum nfft\n",
    "            detrend_opt = 'constant'  # detrend each window by subtracting the average\n",
    "            multiprocess = True  # use multiprocessing\n",
    "            cpus = 3  # use 3 cores in multiprocessing\n",
    "            weighting = 'unity'  # weight each taper at 1\n",
    "            plot_on = True  # plot spectrogram\n",
    "            clim_scale = False # don't auto-scale the colormap\n",
    "            verbose = True  # print extra info\n",
    "            xyflip = False  # do not transpose spect output matrix\n",
    "            # Generate sample chirp data\n",
    "            t = np.arange(1/fs, 600, 1/fs)  # Create 10 min time array from 1/fs to 600 stepping by 1/fs\n",
    "            f_start = 1  # Set chirp freq range min (Hz)\n",
    "            f_end = 20  # Set chirp freq range max (Hz)\n",
    "            data = chirp(t, f_start, t[-1], f_end, 'logarithmic')\n",
    "            # Compute the multitaper spectrogram\n",
    "            spect, stimes, sfreqs = multitaper_spectrogram(data, fs, frequency_range, time_bandwidth, num_tapers,\n",
    "                                                           window_params, min_nfft, detrend_opt, multiprocess,\n",
    "                                                           cpus, weighting, plot_on, verbose, xyflip):\n",
    "\n",
    "        This code is companion to the paper:\n",
    "        \"Sleep Neurophysiological Dynamics Through the Lens of Multitaper Spectral Analysis\"\n",
    "           Michael J. Prerau, Ritchie E. Brown, Matt T. Bianchi, Jeffrey M. Ellenbogen, Patrick L. Purdon\n",
    "           December 7, 2016 : 60-92\n",
    "           DOI: 10.1152/physiol.00062.2015\n",
    "         which should be cited for academic use of this code.\n",
    "\n",
    "         A full tutorial on the multitaper spectrogram can be found at:  #   http://www.sleepEEG.org/multitaper\n",
    "\n",
    "        Copyright 2021 Michael J. Prerau Laboratory. - http://www.sleepEEG.org\n",
    "        Authors: Michael J. Prerau, Ph.D., Thomas Possidente\n",
    "        \n",
    "        Last modified - 2/18/2021 Thomas Possidente\n",
    "  __________________________________________________________________________________________________________________\n",
    "    \"\"\"\n",
    "\n",
    "    #  Process user input\n",
    "    [data, fs, frequency_range, time_bandwidth, num_tapers,\n",
    "     winsize_samples, winstep_samples, window_start,\n",
    "     num_windows, nfft, detrend_opt, plot_on, verbose] = process_input(data, fs, frequency_range, time_bandwidth,\n",
    "                                                                       num_tapers, window_params, min_nfft,\n",
    "                                                                       detrend_opt, plot_on, verbose)\n",
    "\n",
    "    # Set up spectrogram parameters\n",
    "    [window_idxs, stimes, sfreqs, freq_inds] = process_spectrogram_params(fs, nfft, frequency_range, window_start,\n",
    "                                                                          winsize_samples)\n",
    "    # Display spectrogram parameters\n",
    "    if verbose:\n",
    "        display_spectrogram_props(fs, time_bandwidth, num_tapers, [winsize_samples, winstep_samples], frequency_range,\n",
    "                                  detrend_opt)\n",
    "\n",
    "    # Split data into segments and preallocate\n",
    "    data_segments = data[window_idxs]\n",
    "\n",
    "    # COMPUTE THE MULTITAPER SPECTROGRAM\n",
    "    #     STEP 1: Compute DPSS tapers based on desired spectral properties\n",
    "    #     STEP 2: Multiply the data segment by the DPSS Tapers\n",
    "    #     STEP 3: Compute the spectrum for each tapered segment\n",
    "    #     STEP 4: Take the mean of the tapered spectra\n",
    "\n",
    "    # Compute DPSS tapers (STEP 1)\n",
    "    dpss_tapers, dpss_eigen = dpss(winsize_samples, time_bandwidth, num_tapers, return_ratios=True)\n",
    "    dpss_eigen = np.reshape(dpss_eigen, (num_tapers, 1))\n",
    "\n",
    "    # pre-compute weights\n",
    "    if weighting == 'eigen':\n",
    "        wt = dpss_eigen / num_tapers\n",
    "    elif weighting == 'unity':\n",
    "        wt = np.ones(num_tapers) / num_tapers\n",
    "        wt = np.reshape(wt, (num_tapers, 1))  # reshape as column vector\n",
    "    else:\n",
    "        wt = 0\n",
    "\n",
    "    tic = timeit.default_timer()  # start timer\n",
    "\n",
    "    # set all but 1 arg of calc_mts_segment to constant (so we only have to supply one argument later)\n",
    "    calc_mts_segment_plus_args = partial(calc_mts_segment, dpss_tapers=dpss_tapers, nfft=nfft, freq_inds=freq_inds,\n",
    "                                         detrend_opt=detrend_opt, num_tapers=num_tapers, dpss_eigen=dpss_eigen,\n",
    "                                         weighting=weighting, wt=wt)\n",
    "\n",
    "    if multiprocess:  # use multiprocessing\n",
    "        if not cpus:  # if cpus not specfied, use all but 1\n",
    "            pool = Pool(cpu_count()-1)\n",
    "        else:  # else us specified number\n",
    "            pool = Pool(cpus)\n",
    "\n",
    "        # Compute multiprocess multitaper spect.\n",
    "        mt_spectrogram = pool.map(calc_mts_segment_plus_args, data_segments)\n",
    "        pool.close()\n",
    "        pool.join()\n",
    "\n",
    "    else:  # if no multiprocessing, compute normally\n",
    "        mt_spectrogram = np.apply_along_axis(calc_mts_segment_plus_args, 1, data_segments)\n",
    "\n",
    "    # Compute one-sided PSD spectrum\n",
    "    mt_spectrogram = np.asarray(mt_spectrogram)\n",
    "    mt_spectrogram = mt_spectrogram.T\n",
    "    dc_select = np.where(sfreqs == 0)\n",
    "    nyquist_select = np.where(sfreqs == fs/2)\n",
    "    select = np.setdiff1d(np.arange(0, len(sfreqs)), [dc_select, nyquist_select])\n",
    "\n",
    "    mt_spectrogram = np.vstack([mt_spectrogram[dc_select[0], :], 2*mt_spectrogram[select, :],\n",
    "                               mt_spectrogram[nyquist_select[0], :]]) / fs\n",
    "\n",
    "    # Flip if requested\n",
    "    if xyflip:\n",
    "        mt_spectrogram = np.transpose(mt_spectrogram)\n",
    "\n",
    "    # End timer and get elapsed compute time\n",
    "    toc = timeit.default_timer()\n",
    "    elapsed_time = toc - tic\n",
    "    if verbose:\n",
    "        print(\"\\n Multitaper compute time: \" + str(elapsed_time) + \" seconds\")\n",
    "\n",
    "    # Plot multitaper spectrogram\n",
    "    if plot_on:\n",
    "\n",
    "        # Eliminate bad data from colormap scaling\n",
    "        spect_data = mt_spectrogram\n",
    "        clim = np.percentile(spect_data, [5, 95])  # Scale colormap from 5th percentile to 95th\n",
    "\n",
    "        plt.figure(1, figsize=(10, 5))\n",
    "        librosa.display.specshow(nanpow2db(mt_spectrogram), x_axis='time', y_axis='linear',\n",
    "                                 x_coords=stimes, y_coords=sfreqs, shading='auto', cmap=\"jet\")\n",
    "        plt.colorbar(label='Power (dB)')\n",
    "        plt.xlabel(\"Time (HH:MM:SS)\")\n",
    "        plt.ylabel(\"Frequency (Hz)\")\n",
    "        if clim_scale:\n",
    "            plt.clim(clim)  # actually change colorbar scale\n",
    "        plt.show()\n",
    "\n",
    "    # Put outputs into better format for output\n",
    "    #stimes = np.mat(stimes)\n",
    "    #sfreqs = np.mat(sfreqs)\n",
    "\n",
    "    if all(mt_spectrogram.flatten() == 0):\n",
    "        print(\"\\n Data was all zeros, no output\")\n",
    "\n",
    "    return mt_spectrogram, stimes, sfreqs\n",
    "\n",
    "\n",
    "# Helper Functions #\n",
    "\n",
    "# Process User Inputs #\n",
    "def process_input(data, fs, frequency_range=None, time_bandwidth=5, num_tapers=None, window_params=None, min_nfft=0,\n",
    "                  detrend_opt='linear', plot_on=True, verbose=True):\n",
    "    \"\"\" Helper function to process multitaper_spectrogram() arguments\n",
    "            Arguments:\n",
    "                    data (1d np.array): time series data-- required\n",
    "                    fs (float): sampling frequency in Hz  -- required\n",
    "                    frequency_range (list): 1x2 list - [<min frequency>, <max frequency>] (default: [0 nyquist])\n",
    "                    time_bandwidth (float): time-half bandwidth product (window duration*half bandwidth of main lobe)\n",
    "                                            (default: 5 Hz*s)\n",
    "                    num_tapers (int): number of DPSS tapers to use (default: None [will be computed\n",
    "                                      as floor(2*time_bandwidth - 1)])\n",
    "                    window_params (list): 1x2 list - [window size (seconds), step size (seconds)] (default: [5 1])\n",
    "                    min_nfft (int): minimum allowable NFFT size, adds zero padding for interpolation (closest 2^x)\n",
    "                                    (default: 0)\n",
    "                    detrend_opt (string): detrend data window ('linear' (default), 'constant', 'off')\n",
    "                                          (Default: 'linear')\n",
    "                    plot_on (True): plot results (default: True)\n",
    "                    verbose (True): display spectrogram properties (default: true)\n",
    "            Returns:\n",
    "                    data (1d np.array): same as input\n",
    "                    fs (float): same as input\n",
    "                    frequency_range (list): same as input or calculated from fs if not given\n",
    "                    time_bandwidth (float): same as input or default if not given\n",
    "                    num_tapers (int): same as input or calculated from time_bandwidth if not given\n",
    "                    winsize_samples (int): number of samples in single time window\n",
    "                    winstep_samples (int): number of samples in a single window step\n",
    "                    window_start (1xm np.array): array of timestamps representing the beginning time for each window\n",
    "                    num_windows (int): number of windows in the data\n",
    "                    nfft (int): length of signal to calculate fft on\n",
    "                    detrend_opt ('string'): same as input or default if not given\n",
    "                    plot_on (bool): same as input\n",
    "                    verbose (bool): same as input\n",
    "    \"\"\"\n",
    "\n",
    "    # Make sure data is 1 dimensional np array\n",
    "    if len(data.shape) != 1:\n",
    "        if (len(data.shape) == 2) & (data.shape[1] == 1):  # if it's 2d, but can be transferred to 1d, do so\n",
    "            data = np.ravel(data[:, 0])\n",
    "        elif (len(data.shape) == 2) & (data.shape[0] == 1):  # if it's 2d, but can be transferred to 1d, do so\n",
    "            data = np.ravel(data.T[:, 0])\n",
    "        else:\n",
    "            raise TypeError(\"Input data is the incorrect dimensions. Should be a 1d array with shape (n,) where n is \\\n",
    "                            the number of data points. Instead data shape was \" + str(data.shape))\n",
    "\n",
    "    # Set frequency range if not provided\n",
    "    if frequency_range is None:\n",
    "        frequency_range = [0, fs / 2]\n",
    "\n",
    "    # Set detrending method\n",
    "    detrend_opt = detrend_opt.lower()\n",
    "    if detrend_opt != 'linear':\n",
    "        if detrend_opt in ['const', 'constant']:\n",
    "            detrend_opt = 'constant'\n",
    "        elif detrend_opt in ['none', 'false']:\n",
    "            detrend_opt = 'off'\n",
    "        else:\n",
    "            raise ValueError(\"'\" + str(detrend_opt) + \"' is not a valid argument for detrend_opt. The choices \" +\n",
    "                             \"are: 'constant', 'linear', or 'off'.\")\n",
    "    # Check if frequency range is valid\n",
    "    if frequency_range[1] > fs / 2:\n",
    "        frequency_range[1] = fs / 2\n",
    "        warnings.warn('Upper frequency range greater than Nyquist, setting range to [' +\n",
    "                      str(frequency_range[0]) + ', ' + str(frequency_range[1]) + ']')\n",
    "\n",
    "    # Set number of tapers if none provided\n",
    "    if num_tapers is None:\n",
    "        num_tapers = math.floor(2 * time_bandwidth) - 1\n",
    "\n",
    "    # Warn if number of tapers is suboptimal\n",
    "    if num_tapers != math.floor(2 * time_bandwidth) - 1:\n",
    "        warnings.warn('Number of tapers is optimal at floor(2*TW) - 1. consider using ' +\n",
    "                      str(math.floor(2 * time_bandwidth) - 1))\n",
    "\n",
    "    # If no window params provided, set to defaults\n",
    "    if window_params is None:\n",
    "        window_params = [5, 1]\n",
    "\n",
    "    # Check if window size is valid, fix if not\n",
    "    if window_params[0] * fs % 1 != 0:\n",
    "        winsize_samples = round(window_params[0] * fs)\n",
    "        warnings.warn('Window size is not divisible by sampling frequency. Adjusting window size to ' +\n",
    "                      str(winsize_samples / fs) + ' seconds')\n",
    "    else:\n",
    "        winsize_samples = window_params[0] * fs\n",
    "\n",
    "    # Check if window step is valid, fix if not\n",
    "    if window_params[1] * fs % 1 != 0:\n",
    "        winstep_samples = round(window_params[1] * fs)\n",
    "        warnings.warn('Window step size is not divisible by sampling frequency. Adjusting window step size to ' +\n",
    "                      str(winstep_samples / fs) + ' seconds')\n",
    "    else:\n",
    "        winstep_samples = window_params[1] * fs\n",
    "\n",
    "    # Get total data length\n",
    "    len_data = len(data)\n",
    "\n",
    "    # Check if length of data is smaller than window (bad)\n",
    "    if len_data < winsize_samples:\n",
    "        raise ValueError(\"\\nData length (\" + str(len_data) + \") is shorter than window size (\" +\n",
    "                         str(winsize_samples) + \"). Either increase data length or decrease window size.\")\n",
    "\n",
    "    # Find window start indices and num of windows\n",
    "    window_start = np.arange(0, len_data - winsize_samples + 1, winstep_samples)\n",
    "    num_windows = len(window_start)\n",
    "\n",
    "    # Get num points in FFT\n",
    "    if min_nfft == 0:  # avoid divide by zero error in np.log2(0)\n",
    "        nfft = max(2 ** math.ceil(np.log2(abs(winsize_samples))), winsize_samples)\n",
    "    else:\n",
    "        nfft = max(max(2 ** math.ceil(np.log2(abs(winsize_samples))), winsize_samples),\n",
    "                   2 ** math.ceil(np.log2(abs(min_nfft))))\n",
    "\n",
    "    return ([data, fs, frequency_range, time_bandwidth, num_tapers,\n",
    "             int(winsize_samples), int(winstep_samples), window_start, num_windows, nfft,\n",
    "             detrend_opt, plot_on, verbose])\n",
    "\n",
    "\n",
    "# PROCESS THE SPECTROGRAM PARAMETERS #\n",
    "def process_spectrogram_params(fs, nfft, frequency_range, window_start, datawin_size):\n",
    "    \"\"\" Helper function to create frequency vector and window indices\n",
    "        Arguments:\n",
    "             fs (float): sampling frequency in Hz  -- required\n",
    "             nfft (int): length of signal to calculate fft on -- required\n",
    "             frequency_range (list): 1x2 list - [<min frequency>, <max frequency>] -- required\n",
    "             window_start (1xm np.array): array of timestamps representing the beginning time for each\n",
    "                                          window -- required\n",
    "             datawin_size (float): seconds in one window -- required\n",
    "        Returns:\n",
    "            window_idxs (nxm np array): indices of timestamps for each window\n",
    "                                        (nxm where n=number of windows and m=datawin_size)\n",
    "            stimes (1xt np array): array of times for the center of the spectral bins\n",
    "            sfreqs (1xf np array): array of frequency bins for the spectrogram\n",
    "            freq_inds (1d np array): boolean array of which frequencies are being analyzed in\n",
    "                                      an array of frequencies from 0 to fs with steps of fs/nfft\n",
    "    \"\"\"\n",
    "\n",
    "    # create frequency vector\n",
    "    df = fs / nfft\n",
    "    sfreqs = np.arange(0, fs, df)\n",
    "\n",
    "    # Get frequencies for given frequency range\n",
    "    freq_inds = (sfreqs >= frequency_range[0]) & (sfreqs <= frequency_range[1])\n",
    "    sfreqs = sfreqs[freq_inds]\n",
    "\n",
    "    # Compute times in the middle of each spectrum\n",
    "    window_middle_samples = window_start + round(datawin_size / 2)\n",
    "    stimes = window_middle_samples / fs\n",
    "\n",
    "    # Get indexes for each window\n",
    "    window_idxs = np.atleast_2d(window_start).T + np.arange(0, datawin_size, 1)\n",
    "    window_idxs = window_idxs.astype(int)\n",
    "\n",
    "    return [window_idxs, stimes, sfreqs, freq_inds]\n",
    "\n",
    "\n",
    "# DISPLAY SPECTROGRAM PROPERTIES\n",
    "def display_spectrogram_props(fs, time_bandwidth, num_tapers, data_window_params, frequency_range, detrend_opt):\n",
    "    \"\"\" Prints spectrogram properties\n",
    "        Arguments:\n",
    "            fs (float): sampling frequency in Hz  -- required\n",
    "            time_bandwidth (float): time-half bandwidth product (window duration*1/2*frequency_resolution) -- required\n",
    "            num_tapers (int): number of DPSS tapers to use -- required\n",
    "            data_window_params (list): 1x2 list - [window length(s), window step size(s)] -- required\n",
    "            frequency_range (list): 1x2 list - [<min frequency>, <max frequency>] -- required\n",
    "            detrend_opt (str): detrend data window ('linear' (default), 'constant', 'off')\n",
    "        Returns:\n",
    "            This function does not return anything\n",
    "    \"\"\"\n",
    "\n",
    "    data_window_params = np.asarray(data_window_params) / fs\n",
    "\n",
    "    # Print spectrogram properties\n",
    "    print(\"Multitaper Spectrogram Properties: \")\n",
    "    print('     Spectral Resolution: ' + str(2 * time_bandwidth / data_window_params[0]) + 'Hz')\n",
    "    print('     Window Length: ' + str(data_window_params[0]) + 's')\n",
    "    print('     Window Step: ' + str(data_window_params[1]) + 's')\n",
    "    print('     Time Half-Bandwidth Product: ' + str(time_bandwidth))\n",
    "    print('     Number of Tapers: ' + str(num_tapers))\n",
    "    print('     Frequency Range: ' + str(frequency_range[0]) + \"-\" + str(frequency_range[1]) + 'Hz')\n",
    "    print('     Detrend: ' + detrend_opt + '\\n')\n",
    "\n",
    "\n",
    "# NANPOW2DB\n",
    "def nanpow2db(y):\n",
    "    \"\"\" Power to dB conversion, setting bad values to nans\n",
    "        Arguments:\n",
    "            y (float or array-like): power\n",
    "        Returns:\n",
    "            ydB (float or np array): inputs converted to dB with 0s and negatives resulting in nans\n",
    "    \"\"\"\n",
    "\n",
    "    if isinstance(y, int) or isinstance(y, float):\n",
    "        if y == 0:\n",
    "            return np.nan\n",
    "        else:\n",
    "            ydB = 10 * np.log10(y)\n",
    "    else:\n",
    "        if isinstance(y, list):  # if list, turn into array\n",
    "            y = np.asarray(y)\n",
    "        y = y.astype(float)  # make sure it's a float array so we can put nans in it\n",
    "        y[y == 0] = np.nan\n",
    "        ydB = 10 * np.log10(y)\n",
    "\n",
    "    return ydB\n",
    "\n",
    "\n",
    "# Helper #\n",
    "def is_outlier(data):\n",
    "    smad = 1.4826 * np.median(abs(data - np.median(data)))  # scaled median absolute deviation\n",
    "    outlier_mask = abs(data-np.median(data)) > 3*smad  # outliers are more than 3 smads away from median\n",
    "    outlier_mask = (outlier_mask | np.isnan(data) | np.isinf(data))\n",
    "    return outlier_mask\n",
    "\n",
    "\n",
    "# CALCULATE MULTITAPER SPECTRUM ON SINGLE SEGMENT\n",
    "def calc_mts_segment(data_segment, dpss_tapers, nfft, freq_inds, detrend_opt, num_tapers, dpss_eigen, weighting, wt):\n",
    "    \"\"\" Helper function to calculate the multitaper spectrum of a single segment of data\n",
    "        Arguments:\n",
    "            data_segment (1d np.array): One window worth of time-series data -- required\n",
    "            dpss_tapers (2d np.array): Parameters for the DPSS tapers to be used.\n",
    "                                       Dimensions are (num_tapers, winsize_samples) -- required\n",
    "            nfft (int): length of signal to calculate fft on -- required\n",
    "            freq_inds (1d np array): boolean array of which frequencies are being analyzed in\n",
    "                                      an array of frequencies from 0 to fs with steps of fs/nfft\n",
    "            detrend_opt (str): detrend data window ('linear' (default), 'constant', 'off')\n",
    "            num_tapers (int): number of tapers being used\n",
    "            dpss_eigen (np array):\n",
    "            weighting (str):\n",
    "            wt (int or np array):\n",
    "        Returns:\n",
    "            mt_spectrum (1d np.array): spectral power for single window\n",
    "    \"\"\"\n",
    "\n",
    "    # If segment has all zeros, return vector of zeros\n",
    "    if all(data_segment == 0):\n",
    "        ret = np.empty(sum(freq_inds))\n",
    "        ret.fill(0)\n",
    "        return ret\n",
    "\n",
    "    # Option to detrend data to remove low frequency DC component\n",
    "    if detrend_opt != 'off':\n",
    "        data_segment = detrend(data_segment, type=detrend_opt)\n",
    "\n",
    "    # Multiply data by dpss tapers (STEP 2)\n",
    "    tapered_data = np.multiply(np.mat(data_segment).T, np.mat(dpss_tapers.T))\n",
    "\n",
    "    # Compute the FFT (STEP 3)\n",
    "    fft_data = np.fft.fft(tapered_data, nfft, axis=0)\n",
    "\n",
    "    # Compute the weighted mean spectral power across tapers (STEP 4)\n",
    "    spower = np.power(np.imag(fft_data), 2) + np.power(np.real(fft_data), 2)\n",
    "    if weighting == 'adapt':\n",
    "        # adaptive weights - for colored noise spectrum (Percival & Walden p368-370)\n",
    "        tpower = np.dot(np.transpose(data_segment), (data_segment/len(data_segment)))\n",
    "        spower_iter = np.mean(spower[:, 0:2], 1)\n",
    "        spower_iter = spower_iter[:, np.newaxis]\n",
    "        a = (1 - dpss_eigen) * tpower\n",
    "        for i in range(3):  # 3 iterations only\n",
    "            # Calc the MSE weights\n",
    "            b = np.dot(spower_iter, np.ones((1, num_tapers))) / ((np.dot(spower_iter, np.transpose(dpss_eigen))) +\n",
    "                                                                 (np.ones((nfft, 1)) * np.transpose(a)))\n",
    "            # Calc new spectral estimate\n",
    "            wk = (b**2) * np.dot(np.ones((nfft, 1)), np.transpose(dpss_eigen))\n",
    "            spower_iter = np.sum((np.transpose(wk) * np.transpose(spower)), 0) / np.sum(wk, 1)\n",
    "            spower_iter = spower_iter[:, np.newaxis]\n",
    "\n",
    "        mt_spectrum = np.squeeze(spower_iter)\n",
    "\n",
    "    else:\n",
    "        # eigenvalue or uniform weights\n",
    "        mt_spectrum = np.dot(spower, wt)\n",
    "        mt_spectrum = np.reshape(mt_spectrum, nfft)  # reshape to 1D\n",
    "\n",
    "    return mt_spectrum[freq_inds]"
   ]
  },
  {
   "cell_type": "markdown",
   "metadata": {
    "id": "dnf2S0A6aKd2"
   },
   "source": [
    "## Multitaper Spectrogram\n",
    "\n",
    "The multitaper spectrogram is extremely useful in that it allows you to more easily visualize what is happening over time in the frequency domain. The code to generate the spectrogram below is from [Michael Prerau](https://prerau.bwh.harvard.edu/)'s Lab, who is associated with MGH."
   ]
  },
  {
   "cell_type": "code",
   "execution_count": 10,
   "metadata": {
    "colab": {
     "base_uri": "https://localhost:8080/",
     "height": 1000
    },
    "executionInfo": {
     "elapsed": 552,
     "status": "ok",
     "timestamp": 1633957668609,
     "user": {
      "displayName": "Taylor Baum",
      "photoUrl": "https://lh3.googleusercontent.com/a/default-user=s64",
      "userId": "15019767343749897993"
     },
     "user_tz": 240
    },
    "id": "JA968XugZfjW",
    "outputId": "555e06ad-0d72-464a-da3d-8dd29bb7c53e"
   },
   "outputs": [
    {
     "name": "stdout",
     "output_type": "stream",
     "text": [
      "Multitaper Spectrogram Properties: \n",
      "     Spectral Resolution: 2.0Hz\n",
      "     Window Length: 5.0s\n",
      "     Window Step: 1.0s\n",
      "     Time Half-Bandwidth Product: 5\n",
      "     Number of Tapers: 9\n",
      "     Frequency Range: 0-64.0Hz\n",
      "     Detrend: linear\n",
      "\n",
      "\n",
      " Multitaper compute time: 0.029564300000004096 seconds\n"
     ]
    },
    {
     "data": {
      "image/png": "[encoded data removed]",
      "text/plain": [
       "<Figure size 720x360 with 2 Axes>"
      ]
     },
     "metadata": {
      "needs_background": "light"
     },
     "output_type": "display_data"
    },
    {
     "data": {
      "text/plain": [
       "(array([[2.56821225e+02, 3.08209037e+02, 3.68941588e+02, ...,\n",
       "         5.44037920e+02, 4.23288764e+02, 5.96984947e+02],\n",
       "        [4.77675513e+02, 6.18181104e+02, 7.34629774e+02, ...,\n",
       "         1.07895533e+03, 8.72020155e+02, 1.12286026e+03],\n",
       "        [4.85519494e+02, 6.03764329e+02, 7.40888099e+02, ...,\n",
       "         1.08394383e+03, 8.62780513e+02, 1.12359375e+03],\n",
       "        ...,\n",
       "        [1.46025445e-03, 3.15494926e-03, 4.45848236e-03, ...,\n",
       "         2.18807591e-03, 4.27990687e-03, 2.34561931e-03],\n",
       "        [1.45064169e-03, 2.90062530e-03, 5.53279878e-03, ...,\n",
       "         3.87106036e-03, 2.70913516e-03, 3.66194136e-03],\n",
       "        [7.74775834e-04, 1.57635514e-03, 2.44617252e-03, ...,\n",
       "         7.32664981e-04, 3.00439435e-03, 9.62694282e-04]]),\n",
       " array([ 2.5,  3.5,  4.5,  5.5,  6.5,  7.5,  8.5,  9.5, 10.5, 11.5, 12.5,\n",
       "        13.5, 14.5, 15.5, 16.5, 17.5, 18.5, 19.5, 20.5]),\n",
       " array([ 0.   ,  0.125,  0.25 ,  0.375,  0.5  ,  0.625,  0.75 ,  0.875,\n",
       "         1.   ,  1.125,  1.25 ,  1.375,  1.5  ,  1.625,  1.75 ,  1.875,\n",
       "         2.   ,  2.125,  2.25 ,  2.375,  2.5  ,  2.625,  2.75 ,  2.875,\n",
       "         3.   ,  3.125,  3.25 ,  3.375,  3.5  ,  3.625,  3.75 ,  3.875,\n",
       "         4.   ,  4.125,  4.25 ,  4.375,  4.5  ,  4.625,  4.75 ,  4.875,\n",
       "         5.   ,  5.125,  5.25 ,  5.375,  5.5  ,  5.625,  5.75 ,  5.875,\n",
       "         6.   ,  6.125,  6.25 ,  6.375,  6.5  ,  6.625,  6.75 ,  6.875,\n",
       "         7.   ,  7.125,  7.25 ,  7.375,  7.5  ,  7.625,  7.75 ,  7.875,\n",
       "         8.   ,  8.125,  8.25 ,  8.375,  8.5  ,  8.625,  8.75 ,  8.875,\n",
       "         9.   ,  9.125,  9.25 ,  9.375,  9.5  ,  9.625,  9.75 ,  9.875,\n",
       "        10.   , 10.125, 10.25 , 10.375, 10.5  , 10.625, 10.75 , 10.875,\n",
       "        11.   , 11.125, 11.25 , 11.375, 11.5  , 11.625, 11.75 , 11.875,\n",
       "        12.   , 12.125, 12.25 , 12.375, 12.5  , 12.625, 12.75 , 12.875,\n",
       "        13.   , 13.125, 13.25 , 13.375, 13.5  , 13.625, 13.75 , 13.875,\n",
       "        14.   , 14.125, 14.25 , 14.375, 14.5  , 14.625, 14.75 , 14.875,\n",
       "        15.   , 15.125, 15.25 , 15.375, 15.5  , 15.625, 15.75 , 15.875,\n",
       "        16.   , 16.125, 16.25 , 16.375, 16.5  , 16.625, 16.75 , 16.875,\n",
       "        17.   , 17.125, 17.25 , 17.375, 17.5  , 17.625, 17.75 , 17.875,\n",
       "        18.   , 18.125, 18.25 , 18.375, 18.5  , 18.625, 18.75 , 18.875,\n",
       "        19.   , 19.125, 19.25 , 19.375, 19.5  , 19.625, 19.75 , 19.875,\n",
       "        20.   , 20.125, 20.25 , 20.375, 20.5  , 20.625, 20.75 , 20.875,\n",
       "        21.   , 21.125, 21.25 , 21.375, 21.5  , 21.625, 21.75 , 21.875,\n",
       "        22.   , 22.125, 22.25 , 22.375, 22.5  , 22.625, 22.75 , 22.875,\n",
       "        23.   , 23.125, 23.25 , 23.375, 23.5  , 23.625, 23.75 , 23.875,\n",
       "        24.   , 24.125, 24.25 , 24.375, 24.5  , 24.625, 24.75 , 24.875,\n",
       "        25.   , 25.125, 25.25 , 25.375, 25.5  , 25.625, 25.75 , 25.875,\n",
       "        26.   , 26.125, 26.25 , 26.375, 26.5  , 26.625, 26.75 , 26.875,\n",
       "        27.   , 27.125, 27.25 , 27.375, 27.5  , 27.625, 27.75 , 27.875,\n",
       "        28.   , 28.125, 28.25 , 28.375, 28.5  , 28.625, 28.75 , 28.875,\n",
       "        29.   , 29.125, 29.25 , 29.375, 29.5  , 29.625, 29.75 , 29.875,\n",
       "        30.   , 30.125, 30.25 , 30.375, 30.5  , 30.625, 30.75 , 30.875,\n",
       "        31.   , 31.125, 31.25 , 31.375, 31.5  , 31.625, 31.75 , 31.875,\n",
       "        32.   , 32.125, 32.25 , 32.375, 32.5  , 32.625, 32.75 , 32.875,\n",
       "        33.   , 33.125, 33.25 , 33.375, 33.5  , 33.625, 33.75 , 33.875,\n",
       "        34.   , 34.125, 34.25 , 34.375, 34.5  , 34.625, 34.75 , 34.875,\n",
       "        35.   , 35.125, 35.25 , 35.375, 35.5  , 35.625, 35.75 , 35.875,\n",
       "        36.   , 36.125, 36.25 , 36.375, 36.5  , 36.625, 36.75 , 36.875,\n",
       "        37.   , 37.125, 37.25 , 37.375, 37.5  , 37.625, 37.75 , 37.875,\n",
       "        38.   , 38.125, 38.25 , 38.375, 38.5  , 38.625, 38.75 , 38.875,\n",
       "        39.   , 39.125, 39.25 , 39.375, 39.5  , 39.625, 39.75 , 39.875,\n",
       "        40.   , 40.125, 40.25 , 40.375, 40.5  , 40.625, 40.75 , 40.875,\n",
       "        41.   , 41.125, 41.25 , 41.375, 41.5  , 41.625, 41.75 , 41.875,\n",
       "        42.   , 42.125, 42.25 , 42.375, 42.5  , 42.625, 42.75 , 42.875,\n",
       "        43.   , 43.125, 43.25 , 43.375, 43.5  , 43.625, 43.75 , 43.875,\n",
       "        44.   , 44.125, 44.25 , 44.375, 44.5  , 44.625, 44.75 , 44.875,\n",
       "        45.   , 45.125, 45.25 , 45.375, 45.5  , 45.625, 45.75 , 45.875,\n",
       "        46.   , 46.125, 46.25 , 46.375, 46.5  , 46.625, 46.75 , 46.875,\n",
       "        47.   , 47.125, 47.25 , 47.375, 47.5  , 47.625, 47.75 , 47.875,\n",
       "        48.   , 48.125, 48.25 , 48.375, 48.5  , 48.625, 48.75 , 48.875,\n",
       "        49.   , 49.125, 49.25 , 49.375, 49.5  , 49.625, 49.75 , 49.875,\n",
       "        50.   , 50.125, 50.25 , 50.375, 50.5  , 50.625, 50.75 , 50.875,\n",
       "        51.   , 51.125, 51.25 , 51.375, 51.5  , 51.625, 51.75 , 51.875,\n",
       "        52.   , 52.125, 52.25 , 52.375, 52.5  , 52.625, 52.75 , 52.875,\n",
       "        53.   , 53.125, 53.25 , 53.375, 53.5  , 53.625, 53.75 , 53.875,\n",
       "        54.   , 54.125, 54.25 , 54.375, 54.5  , 54.625, 54.75 , 54.875,\n",
       "        55.   , 55.125, 55.25 , 55.375, 55.5  , 55.625, 55.75 , 55.875,\n",
       "        56.   , 56.125, 56.25 , 56.375, 56.5  , 56.625, 56.75 , 56.875,\n",
       "        57.   , 57.125, 57.25 , 57.375, 57.5  , 57.625, 57.75 , 57.875,\n",
       "        58.   , 58.125, 58.25 , 58.375, 58.5  , 58.625, 58.75 , 58.875,\n",
       "        59.   , 59.125, 59.25 , 59.375, 59.5  , 59.625, 59.75 , 59.875,\n",
       "        60.   , 60.125, 60.25 , 60.375, 60.5  , 60.625, 60.75 , 60.875,\n",
       "        61.   , 61.125, 61.25 , 61.375, 61.5  , 61.625, 61.75 , 61.875,\n",
       "        62.   , 62.125, 62.25 , 62.375, 62.5  , 62.625, 62.75 , 62.875,\n",
       "        63.   , 63.125, 63.25 , 63.375, 63.5  , 63.625, 63.75 , 63.875,\n",
       "        64.   ]))"
      ]
     },
     "execution_count": 10,
     "metadata": {},
     "output_type": "execute_result"
    }
   ],
   "source": [
    "multitaper_spectrogram(O1, fs)"
   ]
  },
  {
   "cell_type": "code",
   "execution_count": null,
   "metadata": {
    "id": "fBYZi1N2d2Pn"
   },
   "outputs": [],
   "source": []
  }
 ],
 "metadata": {
  "colab": {
   "name": "Student-EEG-FrequencyAnalysis-Tutorial.ipynb",
   "provenance": []
  },
  "kernelspec": {
   "display_name": "Python [conda env:bci]",
   "language": "python",
   "name": "conda-env-bci-py"
  },
  "language_info": {
   "codemirror_mode": {
    "name": "ipython",
    "version": 3
   },
   "file_extension": ".py",
   "mimetype": "text/x-python",
   "name": "python",
   "nbconvert_exporter": "python",
   "pygments_lexer": "ipython3",
   "version": "3.9.6"
  }
 },
 "nbformat": 4,
 "nbformat_minor": 1
}
