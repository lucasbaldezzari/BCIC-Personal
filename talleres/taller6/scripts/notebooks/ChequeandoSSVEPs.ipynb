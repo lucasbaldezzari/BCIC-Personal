{
 "cells": [
  {
   "cell_type": "markdown",
   "id": "0bb504f2",
   "metadata": {},
   "source": [
    "## Corroborando si tenemos SSVEPs\n",
    "\n",
    "Vamos a corroborar si tenemos SSVEPS en la señal de EEG registrada.\n",
    "\n",
    "Los datos registrados en OpenBCI tienen la forma:\n",
    "\n",
    "%OpenBCI Raw EEG Data\n",
    "%Number of channels = 8\n",
    "%Sample Rate = 250 Hz\n",
    "%Board = OpenBCI_GUI$BoardCytonSerial\n",
    "Sample Index, EXG Channel 0, EXG Channel 1, EXG Channel 2, EXG Channel 3, EXG Channel 4, EXG Channel 5, EXG Channel 6, EXG Channel 7, Accel Channel 0, Accel Channel 1, Accel Channel 2, Other, Other, Other, Other, Other, Other, Other, Analog Channel 0, Analog Channel 1, Analog Channel 2, Timestamp, Other, Timestamp (Formatted)"
   ]
  },
  {
   "cell_type": "code",
   "execution_count": 4,
   "id": "83228de1",
   "metadata": {},
   "outputs": [],
   "source": [
    "import os\n",
    "import numpy as np\n",
    "import pandas as pd\n",
    "import matplotlib.pyplot as plt\n",
    "import random\n",
    "import time\n",
    "\n",
    "from utils import filterEEG"
   ]
  },
  {
   "cell_type": "code",
   "execution_count": 2,
   "id": "a8e43924",
   "metadata": {},
   "outputs": [],
   "source": [
    "#initialFolder = os.getcwd() #directorio donde estamos actualmente. Debe contener el directorio dataset\n",
    "#path = os.path.join(initialFolder,\"recordedEEG\")\n",
    "\n",
    "initialFolder = os.getcwd() #directorio donde estamos actualmente. Debe contener el directorio dataset\n",
    "path = os.path.join(initialFolder,\"recordedEEG\")\n",
    "\n",
    "eeg1 = pd.read_csv(f'{path}\\prueba1.txt', delimiter = \",\")\n",
    "eeg2 = pd.read_csv(f'{path}\\prueba2.txt', delimiter = \",\")\n",
    "\n",
    "canal1Name = eeg1.columns[1]\n",
    "canal2Name = eeg1.columns[2]\n",
    "\n",
    "datosCanla1 = np.asarray(eeg1[canal1Name])\n",
    "datosCanal2 = np.asarray(eeg1[canal2Name])\n",
    "\n",
    "fm = 250.\n",
    "\n",
    "t1 = datosCanla1.shape[0]/fm\n",
    "\n"
   ]
  },
  {
   "cell_type": "code",
   "execution_count": 5,
   "id": "e62b9722",
   "metadata": {},
   "outputs": [
    {
     "ename": "IndexError",
     "evalue": "tuple index out of range",
     "output_type": "error",
     "traceback": [
      "\u001b[1;31m---------------------------------------------------------------------------\u001b[0m",
      "\u001b[1;31mIndexError\u001b[0m                                Traceback (most recent call last)",
      "\u001b[1;32m<ipython-input-5-ef15b77a0d3c>\u001b[0m in \u001b[0;36m<module>\u001b[1;34m\u001b[0m\n\u001b[1;32m----> 1\u001b[1;33m \u001b[0mdatosCanla1\u001b[0m \u001b[1;33m=\u001b[0m \u001b[0mfilterEEG\u001b[0m\u001b[1;33m(\u001b[0m\u001b[0mdatosCanla1\u001b[0m\u001b[1;33m,\u001b[0m \u001b[0mlfrec\u001b[0m \u001b[1;33m=\u001b[0m \u001b[1;36m5.\u001b[0m\u001b[1;33m,\u001b[0m \u001b[0mhfrec\u001b[0m \u001b[1;33m=\u001b[0m \u001b[1;36m38.\u001b[0m\u001b[1;33m,\u001b[0m \u001b[0morden\u001b[0m \u001b[1;33m=\u001b[0m \u001b[1;36m4\u001b[0m\u001b[1;33m,\u001b[0m \u001b[0mfm\u001b[0m  \u001b[1;33m=\u001b[0m \u001b[1;36m250.0\u001b[0m\u001b[1;33m)\u001b[0m\u001b[1;33m\u001b[0m\u001b[1;33m\u001b[0m\u001b[0m\n\u001b[0m\u001b[0;32m      2\u001b[0m \u001b[1;33m\u001b[0m\u001b[0m\n\u001b[0;32m      3\u001b[0m \u001b[0mplt\u001b[0m\u001b[1;33m.\u001b[0m\u001b[0mplot\u001b[0m\u001b[1;33m(\u001b[0m\u001b[0mdatosCanla1\u001b[0m\u001b[1;33m[\u001b[0m\u001b[1;33m:\u001b[0m\u001b[1;36m250\u001b[0m\u001b[1;33m]\u001b[0m\u001b[1;33m)\u001b[0m\u001b[1;33m\u001b[0m\u001b[1;33m\u001b[0m\u001b[0m\n",
      "\u001b[1;32mE:\\reposBCICompetition\\BCIC-Personal\\talleres\\taller6\\scripts\\utils.py\u001b[0m in \u001b[0;36mfilterEEG\u001b[1;34m(signal, lfrec, hfrec, orden, fm)\u001b[0m\n\u001b[0;32m    136\u001b[0m \u001b[1;33m\u001b[0m\u001b[0m\n\u001b[0;32m    137\u001b[0m     \u001b[0mblancos\u001b[0m \u001b[1;33m=\u001b[0m \u001b[0msignal\u001b[0m\u001b[1;33m.\u001b[0m\u001b[0mshape\u001b[0m\u001b[1;33m[\u001b[0m\u001b[1;36m0\u001b[0m\u001b[1;33m]\u001b[0m\u001b[1;33m\u001b[0m\u001b[1;33m\u001b[0m\u001b[0m\n\u001b[1;32m--> 138\u001b[1;33m     \u001b[0mnumCanales\u001b[0m \u001b[1;33m=\u001b[0m \u001b[0msignal\u001b[0m\u001b[1;33m.\u001b[0m\u001b[0mshape\u001b[0m\u001b[1;33m[\u001b[0m\u001b[1;36m1\u001b[0m\u001b[1;33m]\u001b[0m\u001b[1;33m\u001b[0m\u001b[1;33m\u001b[0m\u001b[0m\n\u001b[0m\u001b[0;32m    139\u001b[0m     \u001b[0mtotalLenght\u001b[0m \u001b[1;33m=\u001b[0m \u001b[0msignal\u001b[0m\u001b[1;33m.\u001b[0m\u001b[0mshape\u001b[0m\u001b[1;33m[\u001b[0m\u001b[1;36m2\u001b[0m\u001b[1;33m]\u001b[0m\u001b[1;33m\u001b[0m\u001b[1;33m\u001b[0m\u001b[0m\n\u001b[0;32m    140\u001b[0m     \u001b[0mnumTrials\u001b[0m \u001b[1;33m=\u001b[0m \u001b[0msignal\u001b[0m\u001b[1;33m.\u001b[0m\u001b[0mshape\u001b[0m\u001b[1;33m[\u001b[0m\u001b[1;36m3\u001b[0m\u001b[1;33m]\u001b[0m\u001b[1;33m\u001b[0m\u001b[1;33m\u001b[0m\u001b[0m\n",
      "\u001b[1;31mIndexError\u001b[0m: tuple index out of range"
     ]
    }
   ],
   "source": [
    "datosCanla1 = filterEEG(datosCanla1, lfrec = 5., hfrec = 38., orden = 4, fm  = 250.0)\n",
    "\n",
    "plt.plot(datosCanla1[:250])"
   ]
  },
  {
   "cell_type": "code",
   "execution_count": null,
   "id": "b996ef8a",
   "metadata": {},
   "outputs": [],
   "source": []
  }
 ],
 "metadata": {
  "kernelspec": {
   "display_name": "Python [conda env:taller4-BCIC]",
   "language": "python",
   "name": "conda-env-taller4-BCIC-py"
  },
  "language_info": {
   "codemirror_mode": {
    "name": "ipython",
    "version": 3
   },
   "file_extension": ".py",
   "mimetype": "text/x-python",
   "name": "python",
   "nbconvert_exporter": "python",
   "pygments_lexer": "ipython3",
   "version": "3.9.5"
  }
 },
 "nbformat": 4,
 "nbformat_minor": 5
}
